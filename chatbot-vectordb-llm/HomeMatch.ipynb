{
 "cells": [
  {
   "cell_type": "markdown",
   "id": "a108af04",
   "metadata": {},
   "source": [
    "This is a starter notebook for the project, you'll have to import the libraries you'll need, you can find a list of the ones available in this workspace in the requirements.txt file in this workspace. "
   ]
  },
  {
   "cell_type": "code",
   "execution_count": 5,
   "id": "6554fd4c",
   "metadata": {
    "collapsed": true
   },
   "outputs": [
    {
     "ename": "ModuleNotFoundError",
     "evalue": "No module named 'chromadb'",
     "output_type": "error",
     "traceback": [
      "\u001b[0;31m---------------------------------------------------------------------------\u001b[0m",
      "\u001b[0;31mModuleNotFoundError\u001b[0m                       Traceback (most recent call last)",
      "Cell \u001b[0;32mIn[5], line 2\u001b[0m\n\u001b[1;32m      1\u001b[0m \u001b[38;5;28;01mfrom\u001b[39;00m \u001b[38;5;21;01mlangchain\u001b[39;00m\u001b[38;5;21;01m.\u001b[39;00m\u001b[38;5;21;01mllms\u001b[39;00m \u001b[38;5;28;01mimport\u001b[39;00m OpenAI\n\u001b[0;32m----> 2\u001b[0m \u001b[38;5;28;01mimport\u001b[39;00m \u001b[38;5;21;01mchromadb\u001b[39;00m\n",
      "\u001b[0;31mModuleNotFoundError\u001b[0m: No module named 'chromadb'"
     ]
    }
   ],
   "source": [
    "from langchain.llms import OpenAI\n",
    "import chromadb"
   ]
  },
  {
   "cell_type": "markdown",
   "id": "4c9c21c2",
   "metadata": {},
   "source": [
    "## User Defined Parameters"
   ]
  },
  {
   "cell_type": "code",
   "execution_count": null,
   "id": "f5be8b7a",
   "metadata": {},
   "outputs": [],
   "source": [
    "DATA_FILE = \"listings.json\"\n",
    "\n",
    "DB_CONNECTION = \"real-estate-embeddings-db\"\n",
    "DB_TABLE_NAME = \"listings\""
   ]
  },
  {
   "cell_type": "markdown",
   "id": "7d4e3f8b",
   "metadata": {},
   "source": [
    "### Load OpenAI models"
   ]
  },
  {
   "cell_type": "code",
   "execution_count": null,
   "id": "8923dd9a",
   "metadata": {},
   "outputs": [],
   "source": [
    "# Instantiate an OpenAI API client using langchain\n",
    "instruct_llm = OpenAI(model=\"gpt-3.5-turbo-instruct\", \n",
    "             openai_api_key=os.getenv('OPENAI_API_KEY'),\n",
    "             temperature=0, \n",
    "             max_tokens=3500)\n",
    "\n",
    "chat_llm = ChatOpenAI(model=\"gpt-3.5-turbo\", \n",
    "             openai_api_key=os.getenv('OPENAI_API_KEY'),\n",
    "             temperature=0, \n",
    "             max_tokens=3500)\n",
    "\n",
    "embeddings_model = OpenAIEmbeddings(openai_api_key=os.getenv('OPENAI_API_KEY'))"
   ]
  },
  {
   "cell_type": "markdown",
   "id": "9e46f9da",
   "metadata": {},
   "source": [
    "## Generate Real Estate Listings Using OpenAI Model"
   ]
  },
  {
   "cell_type": "code",
   "execution_count": null,
   "id": "a723d4f5",
   "metadata": {
    "scrolled": true
   },
   "outputs": [],
   "source": [
    "system_prompt = \"\"\"\n",
    "You are an expert real estate agent in New York City in the USA.\n",
    "\"\"\"\n",
    "\n",
    "human_prompt= \"\"\"\n",
    "\n",
    "With your imagination, generate at least 15 real estate listings. \n",
    "Make sure that you are including real listings as well from zillow.com.\n",
    "\n",
    "Distribute listings across the 5 NYC boroughs.\n",
    "\n",
    "The listings must be in the JSON array of dictionaries with each item in the format as shown below:\n",
    "\n",
    "{\n",
    "  \"location\": \"Upper West Side\",\n",
    "  \"list_price\": 5899000,\n",
    "  \"bedrooms\": 4,\n",
    "  \"bathrooms\": 3,\n",
    "  \"square_feet\": 2000,\n",
    "  \"monthly_hoa\": 1000,\n",
    "  \"school_rating\": 4.5,\n",
    "  \"description\": \"A close-knit, environmentally-conscious community with access to organic grocery stores, community gardens, and bike paths. Take a stroll through the nearby Green Oaks Park or grab a cup of coffee at the cozy Green Bean Cafe. With easy access to public transportation and bike lanes, commuting is a breeze.\"\n",
    "}\n",
    "\"\"\""
   ]
  },
  {
   "cell_type": "code",
   "execution_count": null,
   "id": "bb543360",
   "metadata": {},
   "outputs": [],
   "source": [
    "if os.path.exist(DATA_FILE):\n",
    "    with open(DATA_FILE, \"r\") as f:\n",
    "        generated_real_estate_listings = f.read()\n",
    "        f.close()\n",
    "else:\n",
    "    chat = ChatOpenAI(temperature=1)\n",
    "    \n",
    "    messages = [\n",
    "      SystemMessage(\n",
    "          content=system_prompt\n",
    "      ),\n",
    "      HumanMessage(\n",
    "          content=human_prompt\n",
    "      ),\n",
    "    ]\n",
    "    \n",
    "    generated_message = chat.invoke(messages)\n",
    "    generated_real_estate_listings = json.loads(generated_message.json())[\"content\"]"
   ]
  },
  {
   "cell_type": "code",
   "execution_count": null,
   "id": "40707297",
   "metadata": {},
   "outputs": [],
   "source": [
    "generated_real_estate_listings"
   ]
  },
  {
   "cell_type": "markdown",
   "id": "14d22f4c",
   "metadata": {},
   "source": [
    "## Storing Listings in a Vector Database (LanceDB)"
   ]
  },
  {
   "cell_type": "markdown",
   "id": "02a1c19d",
   "metadata": {},
   "source": [
    "### Setup LanceDB"
   ]
  },
  {
   "cell_type": "code",
   "execution_count": null,
   "id": "d7bcecf8",
   "metadata": {},
   "outputs": [],
   "source": [
    "lance_db = lancedb.connect(DB_CONNECTION)\n",
    "embeddings = get_registry().get(\"openai\").create()"
   ]
  },
  {
   "cell_type": "code",
   "execution_count": null,
   "id": "e4f2599e",
   "metadata": {},
   "outputs": [],
   "source": [
    "class REListings(LanceModel):\n",
    "    location: str\n",
    "    list_price: float\n",
    "    bedrooms: float\n",
    "    bathrooms: float\n",
    "    size: float\n",
    "    monthly_hoa: float\n",
    "    school_rating: float\n",
    "    description: str = embeddings.SourceField()\n",
    "    description_vector: Vector(embeddings.ndims()) = embeddings.VectorField()"
   ]
  },
  {
   "cell_type": "code",
   "execution_count": null,
   "id": "05516b9c",
   "metadata": {},
   "outputs": [],
   "source": [
    "listing_df = pd.read_json(generated_real_estate_listings)"
   ]
  },
  {
   "cell_type": "code",
   "execution_count": null,
   "id": "26875746",
   "metadata": {},
   "outputs": [],
   "source": [
    "if DB_TABLE_NAME in lance_db.table_names():\n",
    "    table = lance_db.open_table(DB_TABLE_NAME)\n",
    "else:\n",
    "    table = lance_db.create_table(DB_TABLE_NAME, schema=REListings)\n",
    "    \n",
    "    data = listing_df.apply(\n",
    "      lambda row: {\n",
    "          \"location\": row[\"location\"],\n",
    "          \"list_price\": row[\"list_price\"],\n",
    "          \"bedrooms\": row[\"bedrooms\"],\n",
    "          \"bathrooms\": row[\"bathrooms\"],\n",
    "          \"square_feet\": row[\"square_feet\"],\n",
    "          \"monthly_hoa\": row[\"monthly_hoa\"],\n",
    "          \"school_rating\": row[\"school_rating\"],\n",
    "          \"description\": row[\"description\"],\n",
    "      },\n",
    "      axis=1,\n",
    "    ).values.tolist()\n",
    "    \n",
    "    table.add(data)"
   ]
  },
  {
   "cell_type": "markdown",
   "id": "3b95499a",
   "metadata": {},
   "source": [
    "## Building the User Preference Interface"
   ]
  },
  {
   "cell_type": "code",
   "execution_count": null,
   "id": "bedf1534",
   "metadata": {},
   "outputs": [],
   "source": [
    "def is_float(string):\n",
    "    try:\n",
    "        float(string)\n",
    "        return True\n",
    "    except ValueError:\n",
    "        return False\n",
    "\n",
    "def collect_user_preference():\n",
    "    \"\"\"\n",
    "    \"\"\"\n",
    "    questions = {\n",
    "        \"location\": \"Where would you prefer to live in?\",\n",
    "        \"list_price\": \"What is your budget?\", \n",
    "        \"bedrooms\": \"What is the ideal number of bedrooms for your dream home?\",\n",
    "        \"bathrooms\": \"How many bathrooms do you need in the home?\",\n",
    "        \"square_feet\": \"How big would you like your dream home to be (in square feet)?\",\n",
    "        \"monthly_hoa\": \"How much are you comfortable with for the monthly HOA fees?\",\n",
    "        \"school_rating\": \"On a scale of 1 to 5, what is your expectation of school quality in your area?\",\n",
    "        \"description\": \"You can now provide textual description of how you would like your home to be.\"\n",
    "    }\n",
    "    \n",
    "    desc_key_list = [\"location\", \"description\"]\n",
    "    choice_for_none = \"Enter 'None' if you do not have a preference\"\n",
    "    \n",
    "    user_preference = {}\n",
    "    \n",
    "    for key in questions.keys():\n",
    "        response = input(questions[key] + f\" {choice_for_none}\")\n",
    "        \n",
    "        ## Skip to next question if the user doesn't have a preference\n",
    "        if response.lower() == \"none\":\n",
    "            continue\n",
    "        \n",
    "        if key not in desc_key_list:\n",
    "            while not is_float(response):\n",
    "                response = input(f\"You have entered a non-numeric answer to the ({key}) question. Please try again.\\n\\n{questions[key]}\")\n",
    "\n",
    "            user_preference[key] = float(response)\n",
    "        \n",
    "        elif key in desc_key_list:\n",
    "            while not response:\n",
    "                response = input(f\"You have not entered a {key} for your home. Please try again.\\n\\n{questions[key]}\")\n",
    "\n",
    "            user_preference[key] = response\n",
    "\n",
    "    return user_preference"
   ]
  },
  {
   "cell_type": "code",
   "execution_count": null,
   "id": "dc215a0b",
   "metadata": {},
   "outputs": [],
   "source": [
    "user_preference = collect_user_preference()"
   ]
  },
  {
   "cell_type": "markdown",
   "id": "aaf0c083",
   "metadata": {},
   "source": [
    "## Searching Based on Preferences"
   ]
  },
  {
   "cell_type": "code",
   "execution_count": null,
   "id": "fc1c33d4",
   "metadata": {},
   "outputs": [],
   "source": [
    "db = lancedb.connect(DB_CONNECTION)\n",
    "table = db.open_table(DB_TABLE_NAME)"
   ]
  },
  {
   "cell_type": "code",
   "execution_count": null,
   "id": "08d91340",
   "metadata": {},
   "outputs": [],
   "source": [
    "def build_filter(user_preference):\n",
    "    \n",
    "    gte_col_list = [\"bedrooms\", \"bathrooms\", \"square_feet\", \"school_rating\"]\n",
    "    lte_col_list = [\"list_price\", \"monthly_hoa\"]\n",
    "    desc_col_list = [\"location\", \"description\"]\n",
    "    \n",
    "    where_filter_expr = \"\"\n",
    "    \n",
    "    for k, v in user_preference.items():\n",
    "        if k in gte_col_list:\n",
    "            where_filter_expr = f\"{where_filter_expr} and {k} >= {v}\"\n",
    "        elif k in lte_col_list:\n",
    "            where_filter_expr = f\"{where_filter_expr} and {k} <= {v}\"\n",
    "    \n",
    "    if where_filter_expr[:4] == \" and\":\n",
    "        where_filter_expr = where_filter_expr[4:].strip()\n",
    "        \n",
    "    return where_filter_expr"
   ]
  },
  {
   "cell_type": "code",
   "execution_count": null,
   "id": "09ef8a6a",
   "metadata": {},
   "outputs": [],
   "source": [
    "filter_expr = build_filter(user_preference)\n",
    "desc_preference = user_preference[\"description\"]\n",
    "\n",
    "filtered_df = table.search(preferences, \n",
    "                           vector_column_name=\"description_vector\"\n",
    "                          ).where(filter_expr, prefilter=True).limit(5).to_pandas()\n"
   ]
  },
  {
   "cell_type": "markdown",
   "id": "874d0d18",
   "metadata": {},
   "source": [
    "## Personalize Listings To User Preference"
   ]
  },
  {
   "cell_type": "code",
   "execution_count": null,
   "id": "1cfe6a9d",
   "metadata": {},
   "outputs": [],
   "source": [
    "def generate_output(query, df):\n",
    "    context = \"\"\n",
    "    p = inflect.engine()\n",
    "    for index, row in df.iterrows():\n",
    "        context += f'Located in {row[\"location\"]} with a list price of {p.number_to_words(int(row[\"list_price\"]))} that has {p.number_to_words(int(row[\"bedrooms\"]))} bedrooms, {p.number_to_words(int(row[\"bathrooms\"]))} bathrooms {str(int(row[\"square_feet\"]))} square feet, and a school rating of {str(row[\"school_rating\"])}. {row[\"description\"]} \\n\\n'\n",
    "    \n",
    "    response = openai.chat.completions.create(\n",
    "        model=\"gpt-3.5-turbo\",\n",
    "        messages=[\n",
    "            {\n",
    "                \"role\": \"system\",\n",
    "                \"content\": \"You are an expert real estate agent that answers user's questions based on the context provided.\\nDo not make up an answer if you do not know it, stay within the bounds of the context provided, if you don't know the answer, say that you don't have enough information on the topic!\",\n",
    "            },\n",
    "            {\"role\": \"user\", \"content\": f\"CONTEXT: {context}\\nQUERY: {query}\"},\n",
    "            {\"role\": \"user\", \"content\": \"ANSWER:\"},\n",
    "        ],\n",
    "    )\n",
    "\n",
    "    response = response.choices[0].message.content.strip()\n",
    "    return response"
   ]
  },
  {
   "cell_type": "code",
   "execution_count": null,
   "id": "da0de911",
   "metadata": {},
   "outputs": [],
   "source": [
    "query = \"Based on my preferences, can you recommend the most suitable listing for me?\"\n",
    "\n",
    "generate_output(query, filtered_df)"
   ]
  }
 ],
 "metadata": {
  "kernelspec": {
   "display_name": "Python 3 (ipykernel)",
   "language": "python",
   "name": "python3"
  },
  "language_info": {
   "codemirror_mode": {
    "name": "ipython",
    "version": 3
   },
   "file_extension": ".py",
   "mimetype": "text/x-python",
   "name": "python",
   "nbconvert_exporter": "python",
   "pygments_lexer": "ipython3",
   "version": "3.10.13"
  }
 },
 "nbformat": 4,
 "nbformat_minor": 5
}
