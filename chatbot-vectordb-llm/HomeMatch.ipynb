{
 "cells": [
  {
   "cell_type": "markdown",
   "id": "a108af04",
   "metadata": {},
   "source": [
    "This is a starter notebook for the project, you'll have to import the libraries you'll need, you can find a list of the ones available in this workspace in the requirements.txt file in this workspace. "
   ]
  },
  {
   "cell_type": "code",
   "execution_count": 17,
   "id": "6554fd4c",
   "metadata": {},
   "outputs": [],
   "source": [
    "from langchain.llms import OpenAI\n",
    "from langchain_openai import OpenAIEmbeddings\n",
    "import openai\n",
    "import chromadb\n",
    "import os\n",
    "from dotenv import load_dotenv\n",
    "import lancedb\n",
    "from lancedb.embeddings import get_registry\n",
    "from lancedb.pydantic import LanceModel, Vector\n",
    "import pandas as pd\n",
    "import json"
   ]
  },
  {
   "cell_type": "markdown",
   "id": "4c9c21c2",
   "metadata": {},
   "source": [
    "## User Defined Parameters"
   ]
  },
  {
   "cell_type": "code",
   "execution_count": 140,
   "id": "f5be8b7a",
   "metadata": {},
   "outputs": [],
   "source": [
    "DATA_FILE = \"listings.json\"\n",
    "VECTOR_FILE = \"listings-with-vector.json\"\n",
    "\n",
    "DB_CONNECTION = \"real-estate-embeddings-db\"\n",
    "DB_TABLE_NAME = \"listings\"\n",
    "\n",
    "MODEL_NAME = \"gpt-3.5-turbo\""
   ]
  },
  {
   "cell_type": "code",
   "execution_count": 20,
   "id": "d84976e4-85a0-4465-bfd2-781f9bd86e1d",
   "metadata": {},
   "outputs": [
    {
     "data": {
      "text/plain": [
       "True"
      ]
     },
     "execution_count": 20,
     "metadata": {},
     "output_type": "execute_result"
    }
   ],
   "source": [
    "load_dotenv()"
   ]
  },
  {
   "cell_type": "markdown",
   "id": "7d4e3f8b",
   "metadata": {},
   "source": [
    "### Load OpenAI models"
   ]
  },
  {
   "cell_type": "code",
   "execution_count": 21,
   "id": "49a3af17-acd6-4acb-9fe7-f93b09af58b7",
   "metadata": {},
   "outputs": [],
   "source": [
    "openai.api_key = os.getenv('OPENAI_API_KEY')"
   ]
  },
  {
   "cell_type": "code",
   "execution_count": 25,
   "id": "97865873-6373-44da-882a-e7b61e7e0c32",
   "metadata": {},
   "outputs": [],
   "source": [
    "# Create embeddings instance\n",
    "embedding = OpenAIEmbeddings(model=\"text-embedding-3-large\")"
   ]
  },
  {
   "cell_type": "markdown",
   "id": "9e46f9da",
   "metadata": {},
   "source": [
    "## Generate Real Estate Listings Using OpenAI Model"
   ]
  },
  {
   "cell_type": "code",
   "execution_count": 7,
   "id": "a723d4f5",
   "metadata": {
    "scrolled": true
   },
   "outputs": [],
   "source": [
    "system_prompt = \"\"\"\n",
    "You are an expert real estate agent in New York City in the USA.\n",
    "\"\"\"\n",
    "\n",
    "human_prompt= \"\"\"\n",
    "\n",
    "With your imagination, generate at least 15 real estate listings. \n",
    "Make sure that you are including real listings as well from zillow.com.\n",
    "\n",
    "Distribute listings across the 5 NYC boroughs.\n",
    "\n",
    "The listings must be in the JSON array of dictionaries with each item in the format as shown below:\n",
    "\n",
    "{\n",
    "  \"location\": \"Upper West Side\",\n",
    "  \"list_price\": 5899000,\n",
    "  \"bedrooms\": 4,\n",
    "  \"bathrooms\": 3,\n",
    "  \"square_feet\": 2000,\n",
    "  \"monthly_hoa\": 1000,\n",
    "  \"school_rating\": 4.5,\n",
    "  \"description\": \"A close-knit, environmentally-conscious community with access to organic grocery stores, community gardens, and bike paths. Take a stroll through the nearby Green Oaks Park or grab a cup of coffee at the cozy Green Bean Cafe. With easy access to public transportation and bike lanes, commuting is a breeze.\"\n",
    "}\n",
    "\"\"\""
   ]
  },
  {
   "cell_type": "code",
   "execution_count": 11,
   "id": "bb543360",
   "metadata": {},
   "outputs": [],
   "source": [
    "if os.path.exists(DATA_FILE):\n",
    "    with open(DATA_FILE, \"r\") as f:\n",
    "        text_file = f.read()\n",
    "        f.close()\n",
    "    generated_real_estate_listings = json.loads(text_file)\n",
    "else:\n",
    "    chat = ChatOpenAI(temperature=1)\n",
    "    \n",
    "    messages = [\n",
    "      SystemMessage(\n",
    "          content=system_prompt\n",
    "      ),\n",
    "      HumanMessage(\n",
    "          content=human_prompt\n",
    "      ),\n",
    "    ]\n",
    "    \n",
    "    generated_message = chat.invoke(messages)\n",
    "    generated_real_estate_listings = json.loads(generated_message.json())[\"content\"]"
   ]
  },
  {
   "cell_type": "code",
   "execution_count": 12,
   "id": "9038332b-1757-4568-9db1-770c5de881b7",
   "metadata": {},
   "outputs": [
    {
     "data": {
      "text/plain": [
       "[{'location': 'Upper West Side',\n",
       "  'list_price': 5899000,\n",
       "  'bedrooms': 4,\n",
       "  'bathrooms': 3,\n",
       "  'square_feet': 2000,\n",
       "  'monthly_hoa': 1000,\n",
       "  'school_rating': 4.5,\n",
       "  'description': 'A close-knit, environmentally-conscious community with access to organic grocery stores, community gardens, and bike paths. Take a stroll through the nearby Green Oaks Park or grab a cup of coffee at the cozy Green Bean Cafe. With easy access to public transportation and bike lanes, commuting is a breeze.'},\n",
       " {'location': 'Williamsburg, Brooklyn',\n",
       "  'list_price': 2499000,\n",
       "  'bedrooms': 3,\n",
       "  'bathrooms': 2,\n",
       "  'square_feet': 1500,\n",
       "  'monthly_hoa': 800,\n",
       "  'school_rating': 4.2,\n",
       "  'description': \"Experience the vibrant energy of Williamsburg in this stunning 3-bedroom, 2-bathroom condo. Enjoy breathtaking views of the Manhattan skyline from the private balcony and take advantage of the building's rooftop pool and fitness center.\"},\n",
       " {'location': 'Astoria, Queens',\n",
       "  'list_price': 1799000,\n",
       "  'bedrooms': 2,\n",
       "  'bathrooms': 2,\n",
       "  'square_feet': 1200,\n",
       "  'monthly_hoa': 600,\n",
       "  'school_rating': 4.1,\n",
       "  'description': 'Discover the charm of Astoria in this beautifully renovated 2-bedroom, 2-bathroom co-op. Features include hardwood floors, high ceilings, and a spacious living room with plenty of natural light. Enjoy the convenience of being just a short walk from the N/Q train.'},\n",
       " {'location': 'Greenwich Village',\n",
       "  'list_price': 4299000,\n",
       "  'bedrooms': 2,\n",
       "  'bathrooms': 2,\n",
       "  'square_feet': 1200,\n",
       "  'monthly_hoa': 1200,\n",
       "  'school_rating': 4.6,\n",
       "  'description': \"Live in the heart of Greenwich Village in this stylish 2-bedroom, 2-bathroom condo. Enjoy the building's 24-hour doorman, fitness center, and rooftop terrace with stunning city views. Steps from Washington Square Park and some of the best restaurants and bars in the city.\"},\n",
       " {'location': 'Harlem',\n",
       "  'list_price': 1499000,\n",
       "  'bedrooms': 2,\n",
       "  'bathrooms': 1,\n",
       "  'square_feet': 1000,\n",
       "  'monthly_hoa': 500,\n",
       "  'school_rating': 3.9,\n",
       "  'description': 'Experience the rich history and culture of Harlem in this charming 2-bedroom, 1-bathroom brownstone. Features include exposed brick, hardwood floors, and a cozy backyard perfect for entertaining. Just a short walk from the 2/3 train and some of the best soul food in the city.'},\n",
       " {'location': 'Long Island City, Queens',\n",
       "  'list_price': 1999000,\n",
       "  'bedrooms': 1,\n",
       "  'bathrooms': 1,\n",
       "  'square_feet': 800,\n",
       "  'monthly_hoa': 400,\n",
       "  'school_rating': 4.0,\n",
       "  'description': 'Enjoy the stunning city views and modern amenities of this 1-bedroom, 1-bathroom condo in Long Island City. Features include floor-to-ceiling windows, a private balcony, and a 24-hour doorman. Just a short walk from the 7 train and some of the best art galleries in the city.'},\n",
       " {'location': 'Upper East Side',\n",
       "  'list_price': 6999000,\n",
       "  'bedrooms': 5,\n",
       "  'bathrooms': 4,\n",
       "  'square_feet': 3000,\n",
       "  'monthly_hoa': 1500,\n",
       "  'school_rating': 4.7,\n",
       "  'description': \"Live in luxury on the Upper East Side in this expansive 5-bedroom, 4-bathroom condo. Features include a private elevator, marble floors, and a spacious living room with a fireplace. Enjoy the building's 24-hour doorman, fitness center, and rooftop terrace with breathtaking city views.\"},\n",
       " {'location': 'Greenwich Village, Manhattan',\n",
       "  'list_price': 4299000,\n",
       "  'bedrooms': 2,\n",
       "  'bathrooms': 2,\n",
       "  'square_feet': 1200,\n",
       "  'monthly_hoa': 1200,\n",
       "  'school_rating': 4.6,\n",
       "  'description': \"Live in the heart of Greenwich Village in this stylish 2-bedroom, 2-bathroom condo. Enjoy the building's 24-hour doorman, fitness center, and rooftop terrace with stunning city views.\"},\n",
       " {'location': 'DUMBO, Brooklyn',\n",
       "  'list_price': 2999000,\n",
       "  'bedrooms': 2,\n",
       "  'bathrooms': 2,\n",
       "  'square_feet': 1000,\n",
       "  'monthly_hoa': 700,\n",
       "  'school_rating': 4.4,\n",
       "  'description': 'Experience the best of Brooklyn in this 2-bedroom, 2-bathroom condo in DUMBO. Features include exposed brick, hardwood floors, and stunning city views from the private balcony.'},\n",
       " {'location': 'Forest Hills, Queens',\n",
       "  'list_price': 1999000,\n",
       "  'bedrooms': 3,\n",
       "  'bathrooms': 2,\n",
       "  'square_feet': 1500,\n",
       "  'monthly_hoa': 500,\n",
       "  'school_rating': 4.2,\n",
       "  'description': 'Discover the charm of Forest Hills in this beautifully renovated 3-bedroom, 2-bathroom co-op. Features include a spacious living room, formal dining room, and a fully equipped kitchen.'},\n",
       " {'location': 'Riverdale, Bronx',\n",
       "  'list_price': 699000,\n",
       "  'bedrooms': 4,\n",
       "  'bathrooms': 3,\n",
       "  'square_feet': 2000,\n",
       "  'monthly_hoa': 400,\n",
       "  'school_rating': 4.1,\n",
       "  'description': 'Enjoy stunning views of the Hudson River from this spacious 4-bedroom, 3-bathroom colonial home in Riverdale. Features include a large backyard, perfect for entertaining, and a garage with additional storage space.'},\n",
       " {'location': 'Tottenville, Staten Island',\n",
       "  'list_price': 599000,\n",
       "  'bedrooms': 3,\n",
       "  'bathrooms': 2,\n",
       "  'square_feet': 1500,\n",
       "  'monthly_hoa': 300,\n",
       "  'school_rating': 4.0,\n",
       "  'description': 'Welcome to this beautiful 3 bedroom, 2 bathroom single family home in Tottenville. Features include a spacious living room, formal dining room, and a fully equipped kitchen. The backyard is perfect for entertaining and has a detached garage.'},\n",
       " {'location': 'Upper East Side, Manhattan',\n",
       "  'list_price': 5999000,\n",
       "  'bedrooms': 3,\n",
       "  'bathrooms': 3,\n",
       "  'square_feet': 1800,\n",
       "  'monthly_hoa': 1000,\n",
       "  'school_rating': 4.7,\n",
       "  'description': 'Live in luxury on the Upper East Side in this stunning 3-bedroom, 3-bathroom condo. Features include a private balcony, marble floors, and a spacious living room with a fireplace.'},\n",
       " {'location': 'Carroll Gardens, Brooklyn',\n",
       "  'list_price': 2499000,\n",
       "  'bedrooms': 2,\n",
       "  'bathrooms': 2,\n",
       "  'square_feet': 1200,\n",
       "  'monthly_hoa': 600,\n",
       "  'school_rating': 4.3,\n",
       "  'description': 'Experience the charm of Carroll Gardens in this beautifully renovated 2-bedroom, 2-bathroom brownstone. Features include exposed brick, hardwood floors, and a cozy backyard perfect for entertaining.'},\n",
       " {'location': 'Jackson Heights, Queens',\n",
       "  'list_price': 1799000,\n",
       "  'bedrooms': 3,\n",
       "  'bathrooms': 2,\n",
       "  'square_feet': 1500,\n",
       "  'monthly_hoa': 400,\n",
       "  'school_rating': 4.1,\n",
       "  'description': 'Discover the diversity of Jackson Heights in this spacious 3-bedroom, 2-bathroom co-op. Features include a large living room, formal dining room, and a fully equipped kitchen.'},\n",
       " {'location': 'Pelham Parkway, Bronx',\n",
       "  'list_price': 499000,\n",
       "  'bedrooms': 3,\n",
       "  'bathrooms': 2,\n",
       "  'square_feet': 1200,\n",
       "  'monthly_hoa': 300,\n",
       "  'school_rating': 3.9,\n",
       "  'description': 'Welcome to this beautiful 3 bedroom, 2 bathroom single family home in Pelham Parkway. Features include a spacious living room, formal dining room, and a fully equipped kitchen. The backyard is perfect for entertaining and has a detached garage.'},\n",
       " {'location': 'Grasmere, Staten Island',\n",
       "  'list_price': 699000,\n",
       "  'bedrooms': 4,\n",
       "  'bathrooms': 3,\n",
       "  'square_feet': 2000,\n",
       "  'monthly_hoa': 500,\n",
       "  'school_rating': 4.2,\n",
       "  'description': 'Enjoy stunning views of the Verrazano Bridge from this spacious 4-bedroom, 3-bathroom colonial home in Grasmere. Features include a large backyard, perfect for entertaining, and a garage with additional storage space.'}]"
      ]
     },
     "execution_count": 12,
     "metadata": {},
     "output_type": "execute_result"
    }
   ],
   "source": [
    "generated_real_estate_listings = generated_real_estate_listings['listings']\n",
    "generated_real_estate_listings"
   ]
  },
  {
   "cell_type": "markdown",
   "id": "14d22f4c",
   "metadata": {},
   "source": [
    "## Storing Listings in a Vector Database (LanceDB)"
   ]
  },
  {
   "cell_type": "markdown",
   "id": "02a1c19d",
   "metadata": {},
   "source": [
    "### Setup LanceDB"
   ]
  },
  {
   "cell_type": "code",
   "execution_count": 107,
   "id": "d7bcecf8",
   "metadata": {},
   "outputs": [],
   "source": [
    "lance_db = lancedb.connect(DB_CONNECTION)\n",
    "lance_db_embeddings = get_registry().get(\"openai\").create()\n",
    "\n",
    "vector_size = 3072"
   ]
  },
  {
   "cell_type": "code",
   "execution_count": 108,
   "id": "e4f2599e",
   "metadata": {},
   "outputs": [],
   "source": [
    "def get_embedding(desc: str):\n",
    "    return embedding.embed_query(desc)\n",
    "\n",
    "class REListings(LanceModel):\n",
    "    location: str\n",
    "    list_price: float\n",
    "    bedrooms: float\n",
    "    bathrooms: float\n",
    "    square_feet: float\n",
    "    monthly_hoa: float\n",
    "    school_rating: float\n",
    "    description: str\n",
    "    description_vector: Vector(vector_size)"
   ]
  },
  {
   "cell_type": "code",
   "execution_count": 109,
   "id": "453ead63-6789-4e0c-8909-f8832757fd74",
   "metadata": {},
   "outputs": [],
   "source": [
    "if not os.path.exists(VECTOR_FILE):\n",
    "    listing_df = pd.DataFrame(generated_real_estate_listings)\n",
    "    listing_df[\"description_vector\"] = listing_df[\"description\"].apply(get_embedding)\n",
    "    listing_df.to_json(\"listings-with-vector.json\")\n",
    "else:\n",
    "    listing_df = pd.read_json(VECTOR_FILE)"
   ]
  },
  {
   "cell_type": "code",
   "execution_count": 119,
   "id": "5699f389-58d6-4e03-b0ce-cc5daa8e9bbe",
   "metadata": {
    "scrolled": true
   },
   "outputs": [],
   "source": [
    "table = lance_db.create_table(DB_TABLE_NAME, data=listing_df, \n",
    "                              mode=\"overwrite\", schema=REListings)\n",
    "table.create_fts_index(['description'])\n",
    "\n",
    "# table = lance_db.drop_table(DB_TABLE_NAME)"
   ]
  },
  {
   "cell_type": "markdown",
   "id": "3b95499a",
   "metadata": {},
   "source": [
    "## Building the User Preference Interface"
   ]
  },
  {
   "cell_type": "code",
   "execution_count": 127,
   "id": "bedf1534",
   "metadata": {},
   "outputs": [],
   "source": [
    "def is_float(string):\n",
    "    try:\n",
    "        float(string)\n",
    "        return True\n",
    "    except ValueError:\n",
    "        return False\n",
    "\n",
    "def collect_user_preference():\n",
    "    \"\"\"\n",
    "    \"\"\"\n",
    "    questions = {\n",
    "        \"location\": \"Where would you prefer to live in?\",\n",
    "        \"list_price\": \"What is your budget?\", \n",
    "        \"bedrooms\": \"What is the ideal number of bedrooms for your dream home?\",\n",
    "        \"bathrooms\": \"How many bathrooms do you need in the home?\",\n",
    "        \"square_feet\": \"How big would you like your dream home to be (in square feet)?\",\n",
    "        \"monthly_hoa\": \"How much are you comfortable with for the monthly HOA fees?\",\n",
    "        \"school_rating\": \"On a scale of 1 to 5, what is your expectation of school quality in your area?\",\n",
    "        \"description\": \"You can now provide textual description of how you would like your home to be.\"\n",
    "    }\n",
    "    \n",
    "    desc_key_list = [\"location\", \"description\"]\n",
    "    choice_for_none = \"Enter 'None' if you do not have a preference\"\n",
    "    \n",
    "    user_preference = {}\n",
    "    \n",
    "    for key in questions.keys():\n",
    "        response = input(f\"\\n{questions[key]} {choice_for_none}\\n\")\n",
    "        \n",
    "        ## Skip to next question if the user doesn't have a preference\n",
    "        if response.lower() == \"none\":\n",
    "            continue\n",
    "        \n",
    "        if key not in desc_key_list:\n",
    "            while not is_float(response):\n",
    "                response = input(f\"You have entered a non-numeric answer to the ({key}) question. Please try again.\\n\\n{questions[key]}\")\n",
    "\n",
    "            user_preference[key] = float(response)\n",
    "        \n",
    "        elif key in desc_key_list:\n",
    "            while not response:\n",
    "                response = input(f\"You have not entered a {key} for your home. Please try again.\\n\\n{questions[key]}\")\n",
    "\n",
    "            user_preference[key] = response\n",
    "\n",
    "    return user_preference"
   ]
  },
  {
   "cell_type": "code",
   "execution_count": 128,
   "id": "dc215a0b",
   "metadata": {},
   "outputs": [
    {
     "name": "stdin",
     "output_type": "stream",
     "text": [
      "\n",
      "Where would you prefer to live in? Enter 'None' if you do not have a preference\n",
      " None\n",
      "\n",
      "What is your budget? Enter 'None' if you do not have a preference\n",
      " 20000000\n",
      "\n",
      "What is the ideal number of bedrooms for your dream home? Enter 'None' if you do not have a preference\n",
      " 2\n",
      "\n",
      "How many bathrooms do you need in the home? Enter 'None' if you do not have a preference\n",
      " 1\n",
      "\n",
      "How big would you like your dream home to be (in square feet)? Enter 'None' if you do not have a preference\n",
      " None\n",
      "\n",
      "How much are you comfortable with for the monthly HOA fees? Enter 'None' if you do not have a preference\n",
      " None\n",
      "\n",
      "On a scale of 1 to 5, what is your expectation of school quality in your area? Enter 'None' if you do not have a preference\n",
      " None\n",
      "\n",
      "You can now provide textual description of how you would like your home to be. Enter 'None' if you do not have a preference\n",
      " Near the ocean\n"
     ]
    }
   ],
   "source": [
    "user_preference = collect_user_preference()"
   ]
  },
  {
   "cell_type": "markdown",
   "id": "aaf0c083",
   "metadata": {},
   "source": [
    "## Searching Based on Preferences"
   ]
  },
  {
   "cell_type": "code",
   "execution_count": 129,
   "id": "fc1c33d4",
   "metadata": {},
   "outputs": [],
   "source": [
    "db = lancedb.connect(DB_CONNECTION)\n",
    "table = db.open_table(DB_TABLE_NAME)"
   ]
  },
  {
   "cell_type": "code",
   "execution_count": 130,
   "id": "08d91340",
   "metadata": {},
   "outputs": [],
   "source": [
    "def build_filter(user_preference):\n",
    "    \n",
    "    gte_col_list = [\"bedrooms\", \"bathrooms\", \"square_feet\", \"school_rating\"]\n",
    "    lte_col_list = [\"list_price\", \"monthly_hoa\"]\n",
    "    desc_col_list = [\"location\", \"description\"]\n",
    "    \n",
    "    where_filter_expr = \"\"\n",
    "    \n",
    "    for k, v in user_preference.items():\n",
    "        if k in gte_col_list:\n",
    "            where_filter_expr = f\"{where_filter_expr} and {k} >= {v}\"\n",
    "        elif k in lte_col_list:\n",
    "            where_filter_expr = f\"{where_filter_expr} and {k} <= {v}\"\n",
    "    \n",
    "    if where_filter_expr[:4] == \" and\":\n",
    "        where_filter_expr = where_filter_expr[4:].strip()\n",
    "        \n",
    "    return where_filter_expr"
   ]
  },
  {
   "cell_type": "code",
   "execution_count": 131,
   "id": "09ef8a6a",
   "metadata": {
    "scrolled": true
   },
   "outputs": [],
   "source": [
    "filter_expr = build_filter(user_preference)\n",
    "desc_preference = user_preference[\"description\"]\n",
    "\n",
    "filtered_df = table.search(desc_preference, vector_column_name=\"description\").where(filter_expr, prefilter=True).limit(5).to_pandas()"
   ]
  },
  {
   "cell_type": "code",
   "execution_count": 133,
   "id": "a655f545-f182-408d-ac43-e37d1ea5ddc0",
   "metadata": {},
   "outputs": [
    {
     "data": {
      "text/html": [
       "<div>\n",
       "<style scoped>\n",
       "    .dataframe tbody tr th:only-of-type {\n",
       "        vertical-align: middle;\n",
       "    }\n",
       "\n",
       "    .dataframe tbody tr th {\n",
       "        vertical-align: top;\n",
       "    }\n",
       "\n",
       "    .dataframe thead th {\n",
       "        text-align: right;\n",
       "    }\n",
       "</style>\n",
       "<table border=\"1\" class=\"dataframe\">\n",
       "  <thead>\n",
       "    <tr style=\"text-align: right;\">\n",
       "      <th></th>\n",
       "      <th>location</th>\n",
       "      <th>list_price</th>\n",
       "      <th>bedrooms</th>\n",
       "      <th>bathrooms</th>\n",
       "      <th>square_feet</th>\n",
       "      <th>monthly_hoa</th>\n",
       "      <th>school_rating</th>\n",
       "      <th>description</th>\n",
       "      <th>description_vector</th>\n",
       "      <th>score</th>\n",
       "    </tr>\n",
       "  </thead>\n",
       "  <tbody>\n",
       "    <tr>\n",
       "      <th>0</th>\n",
       "      <td>Williamsburg, Brooklyn</td>\n",
       "      <td>2499000.0</td>\n",
       "      <td>3.0</td>\n",
       "      <td>2.0</td>\n",
       "      <td>1500.0</td>\n",
       "      <td>800.0</td>\n",
       "      <td>4.2</td>\n",
       "      <td>Experience the vibrant energy of Williamsburg ...</td>\n",
       "      <td>[-0.021497991, 0.030489406, -0.01510903, -0.00...</td>\n",
       "      <td>0.047892</td>\n",
       "    </tr>\n",
       "    <tr>\n",
       "      <th>1</th>\n",
       "      <td>Greenwich Village</td>\n",
       "      <td>4299000.0</td>\n",
       "      <td>2.0</td>\n",
       "      <td>2.0</td>\n",
       "      <td>1200.0</td>\n",
       "      <td>1200.0</td>\n",
       "      <td>4.6</td>\n",
       "      <td>Live in the heart of Greenwich Village in this...</td>\n",
       "      <td>[-0.029927915, 0.023214633, -0.0181028, 0.0099...</td>\n",
       "      <td>0.045998</td>\n",
       "    </tr>\n",
       "    <tr>\n",
       "      <th>2</th>\n",
       "      <td>Harlem</td>\n",
       "      <td>1499000.0</td>\n",
       "      <td>2.0</td>\n",
       "      <td>1.0</td>\n",
       "      <td>1000.0</td>\n",
       "      <td>500.0</td>\n",
       "      <td>3.9</td>\n",
       "      <td>Experience the rich history and culture of Har...</td>\n",
       "      <td>[1.15922e-05, 0.02230404, -0.010679532, -0.009...</td>\n",
       "      <td>0.045597</td>\n",
       "    </tr>\n",
       "    <tr>\n",
       "      <th>3</th>\n",
       "      <td>Astoria, Queens</td>\n",
       "      <td>1799000.0</td>\n",
       "      <td>2.0</td>\n",
       "      <td>2.0</td>\n",
       "      <td>1200.0</td>\n",
       "      <td>600.0</td>\n",
       "      <td>4.1</td>\n",
       "      <td>Discover the charm of Astoria in this beautifu...</td>\n",
       "      <td>[-0.01804709, 0.030670973, -0.009497103, -0.00...</td>\n",
       "      <td>0.042820</td>\n",
       "    </tr>\n",
       "  </tbody>\n",
       "</table>\n",
       "</div>"
      ],
      "text/plain": [
       "                 location  list_price  bedrooms  bathrooms  square_feet  \\\n",
       "0  Williamsburg, Brooklyn   2499000.0       3.0        2.0       1500.0   \n",
       "1       Greenwich Village   4299000.0       2.0        2.0       1200.0   \n",
       "2                  Harlem   1499000.0       2.0        1.0       1000.0   \n",
       "3         Astoria, Queens   1799000.0       2.0        2.0       1200.0   \n",
       "\n",
       "   monthly_hoa  school_rating  \\\n",
       "0        800.0            4.2   \n",
       "1       1200.0            4.6   \n",
       "2        500.0            3.9   \n",
       "3        600.0            4.1   \n",
       "\n",
       "                                         description  \\\n",
       "0  Experience the vibrant energy of Williamsburg ...   \n",
       "1  Live in the heart of Greenwich Village in this...   \n",
       "2  Experience the rich history and culture of Har...   \n",
       "3  Discover the charm of Astoria in this beautifu...   \n",
       "\n",
       "                                  description_vector     score  \n",
       "0  [-0.021497991, 0.030489406, -0.01510903, -0.00...  0.047892  \n",
       "1  [-0.029927915, 0.023214633, -0.0181028, 0.0099...  0.045998  \n",
       "2  [1.15922e-05, 0.02230404, -0.010679532, -0.009...  0.045597  \n",
       "3  [-0.01804709, 0.030670973, -0.009497103, -0.00...  0.042820  "
      ]
     },
     "execution_count": 133,
     "metadata": {},
     "output_type": "execute_result"
    }
   ],
   "source": [
    "filtered_df"
   ]
  },
  {
   "cell_type": "markdown",
   "id": "874d0d18",
   "metadata": {},
   "source": [
    "## Personalize Listings To User Preference"
   ]
  },
  {
   "cell_type": "code",
   "execution_count": 141,
   "id": "1cfe6a9d",
   "metadata": {},
   "outputs": [],
   "source": [
    "def generate_output(query, df):\n",
    "    context = \"\"\n",
    "    for index, row in df.iterrows():\n",
    "        context += f'Located in {row[\"location\"]} with a list price of {int(row[\"list_price\"])} that has {int(row[\"bedrooms\"])} bedrooms, {int(row[\"bathrooms\"])} bathrooms {str(int(row[\"square_feet\"]))} square feet, and a school rating of {str(row[\"school_rating\"])}. {row[\"description\"]} \\n\\n'\n",
    "    \n",
    "    response = openai.chat.completions.create(\n",
    "        model=MODEL_NAME,\n",
    "        messages=[\n",
    "            {\n",
    "                \"role\": \"system\",\n",
    "                \"content\": \"You are an expert real estate agent. Write a personalised real estate listing description that matches the user's preference. Use only the context provided.\\nDo not make up an answer if you do not know it, stay within the bounds of the context provided, if you don't know the answer, say that you don't have enough information on the topic!\",\n",
    "            },\n",
    "            {\"role\": \"user\", \"content\": f\"CONTEXT: {context}\\nQUERY: {query}\"},\n",
    "            {\"role\": \"user\", \"content\": \"ANSWER:\"},\n",
    "        ],\n",
    "    )\n",
    "\n",
    "    response = response.choices[0].message.content.strip()\n",
    "    return response"
   ]
  },
  {
   "cell_type": "code",
   "execution_count": 142,
   "id": "da0de911",
   "metadata": {},
   "outputs": [
    {
     "data": {
      "text/plain": [
       "'Based on your preferences for a vibrant energy, stunning views, and a high school rating, I would highly recommend the listing in Williamsburg, Brooklyn. This 3-bedroom, 2-bathroom condo offers breathtaking views of the Manhattan skyline from the private balcony and includes access to a rooftop pool and fitness center, perfect for enjoying the vibrant energy of Williamsburg. With a school rating of 4.2, this property combines modern amenities with a great location.'"
      ]
     },
     "execution_count": 142,
     "metadata": {},
     "output_type": "execute_result"
    }
   ],
   "source": [
    "query = \"Based on my preferences, can you recommend the most suitable listing for me?\"\n",
    "\n",
    "generate_output(query, filtered_df)"
   ]
  },
  {
   "cell_type": "code",
   "execution_count": 143,
   "id": "8b948b84-5b3c-4849-b982-fb28b484637b",
   "metadata": {},
   "outputs": [
    {
     "data": {
      "text/plain": [
       "'Based on your future plans of having kids, I would recommend the condo in Williamsburg, Brooklyn with a list price of $2,499,000. This property offers 3 bedrooms, which provides more space for a growing family compared to the other options. With 2 bathrooms and 1500 square feet, there is ample room for you and your future children. Additionally, the school rating of 4.2 is quite good and indicates that there are quality educational options nearby. The building amenities, such as the rooftop pool and fitness center, would be great for both you and your family to enjoy. Furthermore, the vibrant energy of Williamsburg offers a variety of activities and entertainment options suitable for families.'"
      ]
     },
     "execution_count": 143,
     "metadata": {},
     "output_type": "execute_result"
    }
   ],
   "source": [
    "query = \"If I'm planning to have kids in the future, which home would you recommend? Explain your reasoning to me too.\"\n",
    "\n",
    "generate_output(query, filtered_df)"
   ]
  },
  {
   "cell_type": "code",
   "execution_count": 144,
   "id": "39edbb77-b358-431b-b5ef-da3eab3882e7",
   "metadata": {},
   "outputs": [
    {
     "data": {
      "text/plain": [
       "'Based on your budget optimization goal, the property in Harlem priced at 1499000 would be a great choice for you. This charming 2-bedroom, 1-bathroom brownstone offers a cozy and inviting space that captures the rich history and culture of Harlem. With features like exposed brick, hardwood floors, and a backyard for entertaining, this property provides a comfortable living experience at a more affordable price point compared to the other listings. Additionally, the proximity to public transportation and the best soul food in the city adds to the value and desirability of this home.'"
      ]
     },
     "execution_count": 144,
     "metadata": {},
     "output_type": "execute_result"
    }
   ],
   "source": [
    "query = \"If I am looking to optimize my budget, which one do you think is a good choice for me?\"\n",
    "\n",
    "generate_output(query, filtered_df)"
   ]
  },
  {
   "cell_type": "code",
   "execution_count": null,
   "id": "8ed67744-bafa-449f-bbf0-912720cfac5a",
   "metadata": {},
   "outputs": [],
   "source": []
  }
 ],
 "metadata": {
  "kernelspec": {
   "display_name": "Python 3 (ipykernel)",
   "language": "python",
   "name": "python3"
  },
  "language_info": {
   "codemirror_mode": {
    "name": "ipython",
    "version": 3
   },
   "file_extension": ".py",
   "mimetype": "text/x-python",
   "name": "python",
   "nbconvert_exporter": "python",
   "pygments_lexer": "ipython3",
   "version": "3.10.14"
  }
 },
 "nbformat": 4,
 "nbformat_minor": 5
}
